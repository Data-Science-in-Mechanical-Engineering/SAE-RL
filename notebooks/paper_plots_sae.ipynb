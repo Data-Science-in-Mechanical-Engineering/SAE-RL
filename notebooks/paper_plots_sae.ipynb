{
 "cells": [
  {
   "cell_type": "code",
   "execution_count": null,
   "metadata": {},
   "outputs": [],
   "source": [
    "%load_ext autoreload\n",
    "%autoreload 2\n"
   ]
  },
  {
   "cell_type": "code",
   "execution_count": null,
   "metadata": {},
   "outputs": [],
   "source": [
    "from itertools import product\n",
    "\n",
    "import matplotlib.pyplot as plt\n",
    "import numpy as np\n",
    "from cycler import cycler\n",
    "from matplotlib import lines\n",
    "\n",
    "import __init__\n",
    "from src.evaluation.data import (compute_iqm_time_series, compute_iqm_values, smooth_time_series, wandb_load_overview,\n",
    "                                 wandb_load_runs, wandb_load_time_series)\n",
    "from src.evaluation.plots import iqm_ci_plot, iqm_line_plot\n",
    "from src.evaluation.utils import mm2in\n"
   ]
  },
  {
   "attachments": {},
   "cell_type": "markdown",
   "metadata": {},
   "source": [
    "---\n",
    "\n",
    "#### Plotting setup"
   ]
  },
  {
   "cell_type": "code",
   "execution_count": null,
   "metadata": {},
   "outputs": [],
   "source": [
    "plt.rcParams.update({\n",
    "    'axes.prop_cycle': cycler('color', [\"#0173B2\", \"#DE8F05\", \"#029E73\", \"#D55E00\", \"#CC78BC\",\n",
    "                                        \"#CA9161\", \"#FBAFE4\", \"#949494\", \"#ECE133\", \"#56B4E9\"]),\n",
    "    'axes.titlepad': 3.0,\n",
    "    'axes.xmargin': 0.025,\n",
    "    'axes.ymargin': 0.025,\n",
    "    'axes.titlesize': 'medium',\n",
    "    'axes.labelpad': 1.0,\n",
    "    'axes.spines.right': False,\n",
    "    'axes.spines.top': False,\n",
    "    'font.size': 7,\n",
    "    'font.family': 'serif',\n",
    "    'font.serif': 'Times',\n",
    "    'mathtext.fontset': 'custom',\n",
    "    'mathtext.it': 'Times',\n",
    "    'mathtext.rm': 'Times',\n",
    "    'text.usetex': False,\n",
    "    'grid.alpha': 0.1,\n",
    "    'grid.color': '#000000',\n",
    "    'legend.borderaxespad': 0.25,\n",
    "    'legend.borderpad': 0.0,\n",
    "    'legend.frameon': False,\n",
    "    'legend.columnspacing': 1.0,\n",
    "    'legend.handletextpad': 0.5,\n",
    "    'legend.handlelength': 0.75,\n",
    "    'lines.solid_capstyle': 'round',\n",
    "    'lines.solid_joinstyle': 'round',\n",
    "    'xtick.major.pad': 2.0,\n",
    "    'xtick.major.size': 2.0,\n",
    "    'xtick.minor.size': 1.0,\n",
    "    'ytick.major.pad': 2.0,\n",
    "    'ytick.major.size': 2.0,\n",
    "    'ytick.minor.size': 1.0,\n",
    "    'boxplot.meanprops.markeredgecolor': 'none',\n",
    "    'boxplot.meanprops.markerfacecolor': 'C1',\n",
    "    'boxplot.medianprops.color': 'C0',\n",
    "    'boxplot.showmeans': False,\n",
    "    'boxplot.vertical': False,\n",
    "    'boxplot.meanprops.marker': '.',\n",
    "    'boxplot.flierprops.marker': '.',\n",
    "    'boxplot.flierprops.markersize': 4.0,\n",
    "    'boxplot.flierprops.markeredgecolor': 'none',\n",
    "    'boxplot.flierprops.markerfacecolor': '#0000007f',\n",
    "    'boxplot.showmeans': True,\n",
    "    'figure.constrained_layout.h_pad': 0.01,\n",
    "    'figure.constrained_layout.hspace': 0.05,\n",
    "    'figure.constrained_layout.use': True,\n",
    "    'figure.constrained_layout.w_pad': 0.01,\n",
    "    'figure.constrained_layout.wspace': 0.05\n",
    "})\n"
   ]
  },
  {
   "cell_type": "code",
   "execution_count": null,
   "metadata": {},
   "outputs": [],
   "source": [
    "keypoints = ['cube', 'target', 'end-effector']\n",
    "\n",
    "keypoint_labels = {\n",
    "    'tracking_errors/affine/0': 'cube',\n",
    "    'tracking_errors/affine/1': 'target',\n",
    "    'tracking_errors/affine/4': 'end-effector'\n",
    "}\n",
    "\n",
    "thresholds = {\n",
    "    'cube': 0.015,\n",
    "    'target': 0.015,\n",
    "    'end-effector': 0.1\n",
    "}\n",
    "\n",
    "labels = {\n",
    "    'sae-keynet': 'KeyNet',\n",
    "    'sae-keynet-vel-var-bg': 'KeyNet-vel-std-bg',\n",
    "    'sae-basic-vel': 'Basic-vel',\n",
    "    'sae-basic': 'Basic',\n",
    "    'sae-basic-var': 'Basic-std',\n",
    "    'sae-basic-bg': 'Basic-bg',\n",
    "    'sae-basic-var-bg': 'Basic-std-bg',\n",
    "    'sae-basic-vel-bg': 'Basic-vel-bg',\n",
    "    'sae-basic-vel-var': 'Basic-vel-std',\n",
    "    'sae-basic-vel-var-bg': 'Basic-vel-std-bg',\n",
    "    'sae-basic-fp32': 'Basic-kp32',\n",
    "    'sae-dsae': 'DSAE'\n",
    "}\n"
   ]
  },
  {
   "attachments": {},
   "cell_type": "markdown",
   "metadata": {},
   "source": [
    "---\n",
    "\n",
    "#### Load overview table with all runs"
   ]
  },
  {
   "cell_type": "code",
   "execution_count": null,
   "metadata": {},
   "outputs": [],
   "source": [
    "entity = 'jonasreiher'\n",
    "project = 'sae-rl-SAE'\n"
   ]
  },
  {
   "cell_type": "code",
   "execution_count": null,
   "metadata": {},
   "outputs": [],
   "source": [
    "runs = wandb_load_runs(entity, project)\n",
    "runs_all = wandb_load_overview(runs)\n"
   ]
  },
  {
   "attachments": {},
   "cell_type": "markdown",
   "metadata": {},
   "source": [
    "---\n",
    "\n",
    "#### Filter, group, and count runs"
   ]
  },
  {
   "cell_type": "code",
   "execution_count": null,
   "metadata": {},
   "outputs": [],
   "source": [
    "# filter for completely finished runs\n",
    "# group by RL experiment and SAE model\n",
    "\n",
    "runs_grouped = runs_all[\n",
    "    (runs_all['state'] == 'finished') &\n",
    "    (runs_all['global_step'] == 499)\n",
    "].set_index(['dataset.id', 'experiment', 'name']).sort_index()\n",
    "\n",
    "# runs_grouped = runs_all.set_index(['dataset.id', 'experiment', 'name']).sort_index()\n"
   ]
  },
  {
   "cell_type": "code",
   "execution_count": null,
   "metadata": {},
   "outputs": [],
   "source": [
    "# count number of runs for every group\n",
    "\n",
    "runs_grouped.groupby(\n",
    "    ['dataset.id', 'experiment'], dropna=False\n",
    ")[['run']].count()\n"
   ]
  },
  {
   "attachments": {},
   "cell_type": "markdown",
   "metadata": {},
   "source": [
    "---\n",
    "---\n",
    "\n",
    "**Reconstruction Loss**"
   ]
  },
  {
   "cell_type": "code",
   "execution_count": null,
   "metadata": {},
   "outputs": [],
   "source": [
    "df = runs_grouped.loc['panda_push_custom', 'sae-basic-fp32']\n"
   ]
  },
  {
   "cell_type": "code",
   "execution_count": null,
   "metadata": {},
   "outputs": [],
   "source": [
    "time_series = wandb_load_time_series(df, 'valid/loss')\n",
    "time_series_smooth = smooth_time_series(time_series)\n"
   ]
  },
  {
   "cell_type": "code",
   "execution_count": null,
   "metadata": {},
   "outputs": [],
   "source": [
    "fig, ax = plt.subplots()\n",
    "\n",
    "ax.plot(time_series_smooth.index, time_series_smooth.values, color='C0', alpha=0.25)\n",
    "ax.set_yscale('log')\n",
    "ax.set_ylim(3e-4, 2e-2)\n",
    "ax.set_ylabel('rec. loss')\n",
    "ax.set_xlabel('training epochs')\n",
    "\n",
    "fig.set_size_inches(mm2in(122 * 0.49, 25))\n",
    "fig.savefig('../local/paper/sae_basicfp32_loss.pdf')\n"
   ]
  },
  {
   "attachments": {},
   "cell_type": "markdown",
   "metadata": {},
   "source": [
    "---"
   ]
  },
  {
   "cell_type": "code",
   "execution_count": null,
   "metadata": {},
   "outputs": [],
   "source": [
    "df = runs_grouped.loc['panda_push_custom', 'sae-keynet']\n"
   ]
  },
  {
   "cell_type": "code",
   "execution_count": null,
   "metadata": {},
   "outputs": [],
   "source": [
    "time_series = wandb_load_time_series(df, 'valid/loss')\n",
    "time_series_smooth = smooth_time_series(time_series)\n"
   ]
  },
  {
   "cell_type": "code",
   "execution_count": null,
   "metadata": {},
   "outputs": [],
   "source": [
    "fig, ax = plt.subplots()\n",
    "\n",
    "ax.plot(time_series_smooth.index, time_series_smooth.values, color='C0', alpha=0.25)\n",
    "ax.set_yscale('log')\n",
    "ax.set_ylim(3e-4, 2e-2)\n",
    "ax.set_ylabel('rec. loss')\n",
    "ax.set_xlabel('training epochs')\n",
    "\n",
    "fig.set_size_inches(mm2in(122 * 0.49, 25))\n",
    "fig.savefig('../local/paper/sae_keynet_loss.pdf')\n"
   ]
  },
  {
   "attachments": {},
   "cell_type": "markdown",
   "metadata": {},
   "source": [
    "---\n",
    "---\n",
    "\n",
    "**Individual Tracking Errors**"
   ]
  },
  {
   "cell_type": "code",
   "execution_count": null,
   "metadata": {},
   "outputs": [],
   "source": [
    "df = runs_grouped.loc['panda_push_custom', 'sae-basic-fp32']\n"
   ]
  },
  {
   "cell_type": "code",
   "execution_count": null,
   "metadata": {},
   "outputs": [],
   "source": [
    "time_series_smooth = []\n",
    "\n",
    "for i, var in enumerate(['tracking_errors/affine/0', 'tracking_errors/affine/1', 'tracking_errors/affine/4']):\n",
    "    time_series = wandb_load_time_series(df, var)\n",
    "    time_series_smooth.append(smooth_time_series(time_series))\n"
   ]
  },
  {
   "cell_type": "code",
   "execution_count": null,
   "metadata": {},
   "outputs": [],
   "source": [
    "fig, axes = plt.subplots(1, 3)\n",
    "\n",
    "for i in range(3):\n",
    "    axes[i].plot(time_series_smooth[i].index, time_series_smooth[i], color='C0', alpha=0.25)\n",
    "    axes[i].set_title(keypoints[i])\n",
    "    axes[i].axhline(thresholds[keypoints[i]], color='k', alpha=0.25, linestyle='--', lw=1)\n",
    "\n",
    "    axes[i].set_xlabel('training epochs')\n",
    "    axes[i].set_ylim(0, None)\n",
    "\n",
    "    if i in [0, 1]:\n",
    "        axes[i].set_ylim([0.0, 0.05])\n",
    "    elif i == 2:\n",
    "        axes[i].set_ylim([0.0, 0.2])\n",
    "\n",
    "axes[0].set_ylabel(r'tracking error')\n",
    "\n",
    "fig.set_size_inches(mm2in(122, 22))\n",
    "fig.savefig('../local/paper/sae_basicfp32_trackingerrors.pdf')\n"
   ]
  },
  {
   "cell_type": "code",
   "execution_count": null,
   "metadata": {},
   "outputs": [],
   "source": [
    "fig, axes = plt.subplots(1, 3)\n",
    "\n",
    "for i in range(3):\n",
    "    axes[i].plot(time_series_smooth[i].index, time_series_smooth[i], color='C0', alpha=0.25)\n",
    "    axes[i].set_title(keypoints[i])\n",
    "    axes[i].axhline(thresholds[keypoints[i]], color='k', alpha=0.25, linestyle='--', lw=1)\n",
    "\n",
    "    # axes[i].set_xlabel('training epochs')\n",
    "    axes[i].set_ylim(0, None)\n",
    "\n",
    "    if i in [0, 1]:\n",
    "        axes[i].set_ylim([0.0, 0.05])\n",
    "    elif i == 2:\n",
    "        axes[i].set_ylim([0.0, 0.2])\n",
    "\n",
    "axes[0].set_ylabel('tracking error')\n",
    "\n",
    "fig.set_size_inches(mm2in(122, 19))\n",
    "fig.savefig('../local/paper/sae_basicfp32_trackingerrors_combined.pdf')\n"
   ]
  },
  {
   "attachments": {},
   "cell_type": "markdown",
   "metadata": {},
   "source": [
    "---"
   ]
  },
  {
   "cell_type": "code",
   "execution_count": null,
   "metadata": {},
   "outputs": [],
   "source": [
    "df = runs_grouped.loc['panda_push_custom', 'sae-keynet-vel-var-bg']\n"
   ]
  },
  {
   "cell_type": "code",
   "execution_count": null,
   "metadata": {},
   "outputs": [],
   "source": [
    "time_series_smooth = []\n",
    "\n",
    "for i, var in enumerate(['tracking_errors/affine/0', 'tracking_errors/affine/1', 'tracking_errors/affine/4']):\n",
    "    time_series = wandb_load_time_series(df, var)\n",
    "    time_series_smooth.append(smooth_time_series(time_series))\n"
   ]
  },
  {
   "cell_type": "code",
   "execution_count": null,
   "metadata": {},
   "outputs": [],
   "source": [
    "fig, axes = plt.subplots(1, 3)\n",
    "\n",
    "for i in range(3):\n",
    "    axes[i].plot(time_series_smooth[i].index, time_series_smooth[i], color='C0', alpha=0.25)\n",
    "    axes[i].set_title(keypoints[i])\n",
    "    axes[i].axhline(thresholds[keypoints[i]], color='k', alpha=0.25, linestyle='--', lw=1)\n",
    "\n",
    "    axes[i].set_xlabel('training epochs')\n",
    "    axes[i].set_ylim(0, None)\n",
    "\n",
    "    if i in [0, 1]:\n",
    "        axes[i].set_ylim([0.0, 0.05])\n",
    "    elif i == 2:\n",
    "        axes[i].set_ylim([0.0, 0.2])\n",
    "\n",
    "axes[0].set_ylabel(r'tracking error')\n",
    "\n",
    "fig.set_size_inches(mm2in(122, 22))\n",
    "fig.savefig('../local/paper/sae_keynetvelvarbg_trackingerrors.pdf')\n"
   ]
  },
  {
   "cell_type": "code",
   "execution_count": null,
   "metadata": {},
   "outputs": [],
   "source": [
    "fig, axes = plt.subplots(1, 3)\n",
    "\n",
    "for i in range(3):\n",
    "    axes[i].plot(time_series_smooth[i].index, time_series_smooth[i], color='C0', alpha=0.25)\n",
    "    # axes[i].set_title(keypoints[i])\n",
    "    axes[i].axhline(thresholds[keypoints[i]], color='k', alpha=0.25, linestyle='--', lw=1)\n",
    "\n",
    "    axes[i].set_xlabel('training epochs')\n",
    "    axes[i].set_ylim(0, None)\n",
    "\n",
    "    if i in [0, 1]:\n",
    "        axes[i].set_ylim([0.0, 0.05])\n",
    "    elif i == 2:\n",
    "        axes[i].set_ylim([0.0, 0.2])\n",
    "\n",
    "axes[0].set_ylabel('tracking error')\n",
    "\n",
    "fig.set_size_inches(mm2in(122, 19))\n",
    "fig.savefig('../local/paper/sae_keynetvelvarbg_trackingerrors_combined.pdf')\n"
   ]
  },
  {
   "cell_type": "markdown",
   "metadata": {},
   "source": [
    "---"
   ]
  },
  {
   "cell_type": "code",
   "execution_count": null,
   "metadata": {},
   "outputs": [],
   "source": [
    "df_basic = runs_grouped.loc['panda_push_custom', 'sae-basic-fp32']\n",
    "df_keynet = runs_grouped.loc['panda_push_custom', 'sae-keynet-vel-var-bg']\n"
   ]
  },
  {
   "cell_type": "code",
   "execution_count": null,
   "metadata": {},
   "outputs": [],
   "source": [
    "time_series_smooth_basic = []\n",
    "time_series_smooth_keynet = []\n",
    "\n",
    "for i, var in enumerate(['tracking_errors/affine/0', 'tracking_errors/affine/1', 'tracking_errors/affine/4']):\n",
    "    time_series_basic = wandb_load_time_series(df_basic, var)\n",
    "    time_series_keynet = wandb_load_time_series(df_keynet, var)\n",
    "    time_series_smooth_basic.append(smooth_time_series(time_series_basic))\n",
    "    time_series_smooth_keynet.append(smooth_time_series(time_series_keynet))\n"
   ]
  },
  {
   "cell_type": "code",
   "execution_count": null,
   "metadata": {},
   "outputs": [],
   "source": [
    "fig, axes = plt.subplots(1, 3)\n",
    "\n",
    "for i in range(3):\n",
    "    axes[i].plot(time_series_smooth_basic[i].index, time_series_smooth_basic[i], color='C0', alpha=0.25)\n",
    "    axes[i].plot(time_series_smooth_keynet[i].index, time_series_smooth_keynet[i], color='C1', alpha=0.25)\n",
    "    axes[i].set_title(keypoints[i])\n",
    "    axes[i].axhline(thresholds[keypoints[i]], color='k', alpha=0.25, linestyle='--', lw=1)\n",
    "\n",
    "    axes[i].set_xlabel('training epochs')\n",
    "    axes[i].set_ylim(0, None)\n",
    "\n",
    "    if i in [0, 1]:\n",
    "        axes[i].set_ylim([0.0, 0.05])\n",
    "    elif i == 2:\n",
    "        axes[i].set_ylim([0.0, 0.2])\n",
    "\n",
    "axes[0].set_ylabel(r'tracking error')\n",
    "\n",
    "fig.set_size_inches(mm2in(122, 22))\n",
    "fig.savefig('../local/paper/sae_trackingerrors_combined.pdf')\n"
   ]
  },
  {
   "cell_type": "code",
   "execution_count": null,
   "metadata": {},
   "outputs": [],
   "source": [
    "fig, ax = plt.subplots()\n",
    "ax.plot([], [])\n",
    "ax.plot([], [])\n",
    "lines = fig.axes[0].lines\n",
    "\n",
    "fig, ax = plt.subplots()\n",
    "ax.axis('off')\n",
    "\n",
    "ax.legend(lines, ['Basic-kp32', 'KeyNet-vel-std-bg'], ncols=2)\n",
    "\n",
    "fig.set_size_inches(mm2in(122, 3.5))\n",
    "fig.savefig('../local/paper/sae_legend.pdf')\n"
   ]
  },
  {
   "attachments": {},
   "cell_type": "markdown",
   "metadata": {},
   "source": [
    "---\n",
    "---\n",
    "\n",
    "**Boxplots**"
   ]
  },
  {
   "cell_type": "code",
   "execution_count": null,
   "metadata": {},
   "outputs": [],
   "source": [
    "datasets = ['panda_push_custom']\n",
    "experiments = ['sae-dsae', 'sae-basic', 'sae-basic-fp32', 'sae-basic-vel-var-bg', 'sae-keynet', 'sae-keynet-vel-var-bg']\n",
    "run_sets = list(product(datasets, experiments))\n",
    "\n",
    "df = runs_grouped.filter_by({\n",
    "    'dataset.id': datasets,\n",
    "    'experiment': experiments\n",
    "}).sort_index()\n"
   ]
  },
  {
   "cell_type": "code",
   "execution_count": null,
   "metadata": {},
   "outputs": [],
   "source": [
    "fig, axes = plt.subplots(1, 3)\n",
    "\n",
    "for i, var in enumerate(['tracking_errors/affine/0', 'tracking_errors/affine/1', 'tracking_errors/affine/4']):\n",
    "    data = []\n",
    "    tick_labels = []\n",
    "    for run_set in run_sets:\n",
    "        data.append(df.loc[run_set][var])\n",
    "        tick_labels.append(labels[run_set[1]])\n",
    "    axes[i].boxplot(data, vert=False, widths=0.6)\n",
    "    axes[i].axvline(thresholds[keypoints[i]], color='k', alpha=0.25, linestyle='--', lw=1)\n",
    "    axes[i].set_xlabel(f'{keypoint_labels[var]} tracking error')\n",
    "    axes[i].set_xlim(0, None)\n",
    "\n",
    "    median = lines.Line2D([], [], marker='|', c='C0', ls='')\n",
    "    mean = lines.Line2D([], [], marker='.', markeredgecolor='none', c='C1', ls='')\n",
    "    axes[i].legend([median, mean], ['median', 'mean'], bbox_to_anchor=(1,1), loc='lower right', ncol=2)\n",
    "\n",
    "axes[0].set_yticklabels(tick_labels)\n",
    "axes[1].set_yticklabels([])\n",
    "axes[2].set_yticklabels([])\n",
    "\n",
    "fig.set_size_inches(mm2in(122, 9.2 + 6 * 2.5))\n",
    "fig.savefig('../local/paper/sae_boxplots.pdf')\n"
   ]
  },
  {
   "attachments": {},
   "cell_type": "markdown",
   "metadata": {},
   "source": [
    "---"
   ]
  },
  {
   "cell_type": "code",
   "execution_count": null,
   "metadata": {},
   "outputs": [],
   "source": [
    "datasets = ['panda_push_custom']\n",
    "experiments = ['sae-keynet', 'sae-keynet-vel-var-bg', 'sae-basic-vel', 'sae-basic', 'sae-basic-var', 'sae-basic-var-bg', 'sae-basic-vel-var', 'sae-basic-bg', 'sae-basic-vel-bg', 'sae-basic-vel-var-bg']\n",
    "run_sets = list(product(datasets, experiments))\n",
    "\n",
    "df = runs_grouped.filter_by({\n",
    "    'dataset.id': datasets,\n",
    "    'experiment': experiments\n",
    "}).sort_index()\n"
   ]
  },
  {
   "cell_type": "code",
   "execution_count": null,
   "metadata": {},
   "outputs": [],
   "source": [
    "fig, axes = plt.subplots(1, 3)\n",
    "\n",
    "for i, var in enumerate(['tracking_errors/affine/0', 'tracking_errors/affine/1', 'tracking_errors/affine/4']):\n",
    "    data = []\n",
    "    tick_labels = []\n",
    "    for run_set in run_sets:\n",
    "        data.append(df.loc[run_set][var])\n",
    "        tick_labels.append(labels[run_set[1]])\n",
    "    axes[i].boxplot(data, vert=False, widths=0.6, )\n",
    "    axes[i].axvline(thresholds[keypoints[i]], color='k', alpha=0.25, linestyle='--', lw=1)\n",
    "    axes[i].set_xlabel(f'{keypoint_labels[var]} tracking error')\n",
    "    axes[i].set_xlim(0, None)\n",
    "\n",
    "    median = lines.Line2D([], [], marker='|', c='C0', ls='')\n",
    "    mean = lines.Line2D([], [], marker='.', markeredgecolor='none', c='C1', ls='')\n",
    "    axes[i].legend([median, mean], ['median', 'mean'], bbox_to_anchor=(1,1), loc='lower right', ncol=2)\n",
    "\n",
    "axes[0].set_yticklabels(tick_labels)\n",
    "axes[1].set_yticklabels([])\n",
    "axes[2].set_yticklabels([])\n",
    "\n",
    "fig.set_size_inches(mm2in(122, 9.2 + 10 * 2.5))\n",
    "fig.savefig('../local/paper/sae_ablations_boxplots.pdf')\n"
   ]
  },
  {
   "attachments": {},
   "cell_type": "markdown",
   "metadata": {},
   "source": [
    "---\n",
    "---\n",
    "\n",
    "**Tracking Capability**"
   ]
  },
  {
   "cell_type": "code",
   "execution_count": null,
   "metadata": {},
   "outputs": [],
   "source": [
    "df = runs_grouped.filter_by({\n",
    "    'dataset.id': ['panda_push_custom'],\n",
    "    'experiment': ['sae-keynet-vel-var-bg', 'sae-basic-vel-var-bg', 'sae-basic-fp32', 'sae-keynet', 'sae-basic', 'sae-dsae',  'sae-basic-vel', 'sae-basic', 'sae-basic-var', 'sae-basic-bg', 'sae-basic-var-bg', 'sae-basic-vel-bg', 'sae-basic-vel-var', 'sae-basic-var-bg']\n",
    "}).sort_index()\n"
   ]
  },
  {
   "attachments": {},
   "cell_type": "markdown",
   "metadata": {},
   "source": [
    "---"
   ]
  },
  {
   "cell_type": "code",
   "execution_count": null,
   "metadata": {},
   "outputs": [],
   "source": [
    "tracking_errors = df[['tracking_errors/affine/0', 'tracking_errors/affine/1', 'tracking_errors/affine/4']]\n",
    "tracking_capability_individual = (tracking_errors <= thresholds.values()).groupby('experiment').mean()\n"
   ]
  },
  {
   "cell_type": "code",
   "execution_count": null,
   "metadata": {},
   "outputs": [],
   "source": [
    "tracking_capability_individual = tracking_capability_individual.loc[['sae-dsae', 'sae-basic', 'sae-basic-fp32', 'sae-basic-vel-var-bg', 'sae-keynet', 'sae-keynet-vel-var-bg']]\n"
   ]
  },
  {
   "cell_type": "code",
   "execution_count": null,
   "metadata": {},
   "outputs": [],
   "source": [
    "fig, ax = plt.subplots()\n",
    "left = 0\n",
    "for i, kp in enumerate(['tracking_errors/affine/0', 'tracking_errors/affine/1', 'tracking_errors/affine/4']):\n",
    "    ax.barh([labels[exp] for exp in tracking_capability_individual.index], tracking_capability_individual[kp].values, left=left, label=keypoint_labels[kp])\n",
    "    left += tracking_capability_individual[kp].values\n",
    "\n",
    "ax.xaxis.grid()\n",
    "ax.set_axisbelow(True)\n",
    "ax.set_xlabel('tracking capability')\n",
    "ax.legend(loc='lower right', bbox_to_anchor=(1.0, 1.0), ncols=3)\n",
    "ax.set_xlim(0, 3.05)\n",
    "\n",
    "fig.set_size_inches(mm2in(122, 10.3 + 6 * 2.5))\n",
    "fig.savefig('../local/paper/sae_trackingcapability.pdf')\n"
   ]
  },
  {
   "attachments": {},
   "cell_type": "markdown",
   "metadata": {},
   "source": [
    "---"
   ]
  },
  {
   "cell_type": "code",
   "execution_count": null,
   "metadata": {},
   "outputs": [],
   "source": [
    "tracking_errors = df[['tracking_errors/affine/0', 'tracking_errors/affine/1', 'tracking_errors/affine/4']]\n",
    "tracking_capability_individual = (tracking_errors <= thresholds.values()).groupby('experiment').mean()\n"
   ]
  },
  {
   "cell_type": "code",
   "execution_count": null,
   "metadata": {},
   "outputs": [],
   "source": [
    "tracking_capability_individual = tracking_capability_individual.loc[['sae-keynet', 'sae-keynet-vel-var-bg', 'sae-basic-vel', 'sae-basic', 'sae-basic-var', 'sae-basic-var-bg', 'sae-basic-vel-var', 'sae-basic-bg', 'sae-basic-vel-bg', 'sae-basic-vel-var-bg']]\n"
   ]
  },
  {
   "cell_type": "code",
   "execution_count": null,
   "metadata": {},
   "outputs": [],
   "source": [
    "fig, ax = plt.subplots()\n",
    "left = 0\n",
    "for i, kp in enumerate(['tracking_errors/affine/0', 'tracking_errors/affine/1', 'tracking_errors/affine/4']):\n",
    "    ax.barh([labels[exp] for exp in tracking_capability_individual.index], tracking_capability_individual[kp].values, left=left, label=keypoint_labels[kp])\n",
    "    left += tracking_capability_individual[kp].values\n",
    "\n",
    "ax.xaxis.grid()\n",
    "ax.set_axisbelow(True)\n",
    "ax.set_xlabel('tracking capability')\n",
    "ax.legend(loc='lower right', bbox_to_anchor=(1.0, 1.0), ncols=3)\n",
    "ax.set_xlim(0, 3.05)\n",
    "\n",
    "fig.set_size_inches(mm2in(122, 10.3 + 10 * 2.5))\n",
    "fig.savefig('../local/paper/sae_tc_ablations.pdf')\n"
   ]
  },
  {
   "cell_type": "code",
   "execution_count": null,
   "metadata": {},
   "outputs": [],
   "source": [
    "df.groupby(\n",
    "    ['dataset.id', 'experiment'], dropna=False\n",
    ")[['run']].count()\n"
   ]
  },
  {
   "cell_type": "code",
   "execution_count": null,
   "metadata": {},
   "outputs": [],
   "source": []
  }
 ],
 "metadata": {
  "kernelspec": {
   "display_name": "sae-rl-BDjg6v1P",
   "language": "python",
   "name": "python3"
  },
  "language_info": {
   "codemirror_mode": {
    "name": "ipython",
    "version": 3
   },
   "file_extension": ".py",
   "mimetype": "text/x-python",
   "name": "python",
   "nbconvert_exporter": "python",
   "pygments_lexer": "ipython3",
   "version": "3.8.13"
  },
  "orig_nbformat": 4
 },
 "nbformat": 4,
 "nbformat_minor": 2
}
