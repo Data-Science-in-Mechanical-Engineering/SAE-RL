{
 "cells": [
  {
   "cell_type": "code",
   "execution_count": null,
   "metadata": {},
   "outputs": [],
   "source": [
    "%load_ext autoreload\n",
    "%autoreload 2\n"
   ]
  },
  {
   "cell_type": "code",
   "execution_count": null,
   "metadata": {},
   "outputs": [],
   "source": [
    "import matplotlib.pyplot as plt\n",
    "import numpy as np\n",
    "from cycler import cycler\n",
    "from matplotlib.lines import Line2D\n",
    "\n",
    "import __init__\n",
    "from src.evaluation.data import (compute_iqm_time_series, compute_iqm_values, smooth_time_series, wandb_load_overview,\n",
    "                                 wandb_load_runs, wandb_load_time_series)\n",
    "from src.evaluation.plots import iqm_ci_plot, iqm_line_plot\n",
    "from src.evaluation.utils import mm2in\n"
   ]
  },
  {
   "attachments": {},
   "cell_type": "markdown",
   "metadata": {},
   "source": [
    "---\n",
    "\n",
    "#### Plotting setup"
   ]
  },
  {
   "cell_type": "code",
   "execution_count": null,
   "metadata": {},
   "outputs": [],
   "source": [
    "plt.rcParams.update({\n",
    "    'axes.prop_cycle': cycler('color', [\"#0173B2\", \"#DE8F05\", \"#029E73\", \"#D55E00\", \"#CC78BC\",\n",
    "                                        \"#CA9161\", \"#FBAFE4\", \"#949494\", \"#ECE133\", \"#56B4E9\"]),\n",
    "    'axes.titlepad': 3.0,\n",
    "    'axes.xmargin': 0.025,\n",
    "    'axes.ymargin': 0.025,\n",
    "    'axes.titlesize': 'medium',\n",
    "    'axes.labelpad': 1.0,\n",
    "    'axes.spines.right': False,\n",
    "    'axes.spines.top': False,\n",
    "    'font.size': 7,\n",
    "    'font.family': 'serif',\n",
    "    'font.serif': 'Times',\n",
    "    'mathtext.fontset': 'custom',\n",
    "    'mathtext.it': 'Times',\n",
    "    'mathtext.rm': 'Times',\n",
    "    'text.usetex': False,\n",
    "    'grid.alpha': 0.1,\n",
    "    'grid.color': '#000000',\n",
    "    'legend.borderaxespad': 0.25,\n",
    "    'legend.borderpad': 0.0,\n",
    "    'legend.frameon': False,\n",
    "    'legend.columnspacing': 1.0,\n",
    "    'legend.handletextpad': 0.5,\n",
    "    'legend.handlelength': 0.75,\n",
    "    'lines.solid_capstyle': 'round',\n",
    "    'lines.solid_joinstyle': 'round',\n",
    "    'xtick.major.pad': 2.0,\n",
    "    'xtick.major.size': 2.0,\n",
    "    'xtick.minor.size': 1.0,\n",
    "    'ytick.major.pad': 2.0,\n",
    "    'ytick.major.size': 2.0,\n",
    "    'ytick.minor.size': 1.0,\n",
    "    'figure.constrained_layout.h_pad': 0.01,\n",
    "    'figure.constrained_layout.hspace': 0.0,\n",
    "    'figure.constrained_layout.use': True,\n",
    "    'figure.constrained_layout.w_pad': 0.01,\n",
    "    'figure.constrained_layout.wspace': 0.0\n",
    "})\n"
   ]
  },
  {
   "cell_type": "code",
   "execution_count": null,
   "metadata": {},
   "outputs": [],
   "source": [
    "labels = {\n",
    "    ('rl-full', np.nan): 'full state',\n",
    "    ('rl-key-5', np.nan): 'ground truth points',\n",
    "    ('rl-key-only-5', np.nan): 'ground truth points',\n",
    "    ('rl-feat', 'sae-keynet-vel-var-bg'): 'KeyNet-vel-std-bg',\n",
    "    ('rl-feat', 'sae-basic-vel-var-bg'): 'Basic-vel-std-bg',\n",
    "    ('rl-feat', 'sae-basic-fp32'): 'Basic-kp32',\n",
    "    ('rl-feat', 'sae-dsae'): 'DSAE',\n",
    "    ('rl-feat-only', 'sae-keynet-vel-var-bg'): 'KeyNet-vel-std-bg',\n",
    "    ('rl-feat-only', 'sae-basic-vel-var-bg'): 'Basic-vel-std-bg',\n",
    "    ('rl-feat-only', 'sae-basic-fp32'): 'Basic-kp32',\n",
    "    ('rl-feat-only', 'sae-dsae'): 'DSAE'\n",
    "}\n"
   ]
  },
  {
   "attachments": {},
   "cell_type": "markdown",
   "metadata": {},
   "source": [
    "---\n",
    "\n",
    "#### Load overview table with all runs"
   ]
  },
  {
   "cell_type": "code",
   "execution_count": null,
   "metadata": {},
   "outputs": [],
   "source": [
    "entity = 'jonasreiher'\n",
    "project = 'sae-rl-RL'\n"
   ]
  },
  {
   "cell_type": "code",
   "execution_count": null,
   "metadata": {},
   "outputs": [],
   "source": [
    "runs = wandb_load_runs(entity, project)\n",
    "runs_all = wandb_load_overview(runs)\n"
   ]
  },
  {
   "cell_type": "markdown",
   "metadata": {},
   "source": [
    "---\n",
    "\n",
    "#### Filter, group, and count runs"
   ]
  },
  {
   "cell_type": "code",
   "execution_count": null,
   "metadata": {},
   "outputs": [],
   "source": [
    "# filter for completely finished runs\n",
    "# group by RL experiment and SAE model\n",
    "\n",
    "runs_grouped = runs_all[\n",
    "    (runs_all['state'] == 'finished') &\n",
    "    (runs_all['global_step'] == 3000000)\n",
    "].set_index(['experiment', 'training.sae_experiment', 'name']).sort_index()\n",
    "\n",
    "# runs_grouped = runs_all.set_index(['experiment', 'training.sae_experiment', 'name']).sort_index()\n"
   ]
  },
  {
   "cell_type": "code",
   "execution_count": null,
   "metadata": {},
   "outputs": [],
   "source": [
    "# count number of runs for every group\n",
    "\n",
    "runs_grouped.groupby(\n",
    "    ['experiment', 'training.sae_experiment'], dropna=False\n",
    ")[['run']].count()\n"
   ]
  },
  {
   "attachments": {},
   "cell_type": "markdown",
   "metadata": {},
   "source": [
    "---\n",
    "---\n",
    "\n",
    "**Feature points only**"
   ]
  },
  {
   "cell_type": "code",
   "execution_count": null,
   "metadata": {},
   "outputs": [],
   "source": [
    "exp = 'rl-feat-only'\n",
    "df = runs_grouped.filter_by({\n",
    "    'experiment': ['rl-feat-only', 'rl-full', 'rl-key-only-5'],\n",
    "    'training.sae_experiment': ['sae-keynet-vel-var-bg', 'sae-basic-vel-var-bg', 'sae-basic-fp32', 'sae-dsae', np.nan]\n",
    "}).sort_index()\n"
   ]
  },
  {
   "attachments": {},
   "cell_type": "markdown",
   "metadata": {},
   "source": [
    "---\n",
    "\n",
    "IQM Success Rate over Time (FPs only)"
   ]
  },
  {
   "cell_type": "code",
   "execution_count": null,
   "metadata": {},
   "outputs": [],
   "source": [
    "if exp == 'rl-feat-only':\n",
    "    variable = 'eval/success_rate'\n",
    "\n",
    "    time_series = wandb_load_time_series(df, variable)\n",
    "    iqm_time_series = compute_iqm_time_series(time_series)\n",
    "    iqm_time_series_smooth = smooth_time_series(iqm_time_series)\n"
   ]
  },
  {
   "cell_type": "code",
   "execution_count": null,
   "metadata": {},
   "outputs": [],
   "source": [
    "if exp == 'rl-feat-only':\n",
    "    fig, ax = iqm_line_plot(iqm_time_series_smooth, labels=labels)\n",
    "    ax.set_ylabel('success rate')\n",
    "    ax.set_xlabel(r'training steps ($\\times 10^6$)')\n",
    "    ax.xaxis.get_offset_text().set_visible(False)\n",
    "\n",
    "    fig.set_size_inches(mm2in(122 * 0.49, 25))\n",
    "    fig.savefig('../local/paper/rl_successrate_fpsonly.pdf')\n"
   ]
  },
  {
   "cell_type": "code",
   "execution_count": null,
   "metadata": {},
   "outputs": [],
   "source": [
    "lines = fig.axes[0].lines\n",
    "\n",
    "fig, ax = plt.subplots()\n",
    "ax.axis('off')\n",
    "\n",
    "run_sets = iqm_time_series_smooth.columns.droplevel(-1).unique()\n",
    "ax.legend(lines, [labels[run_set] for run_set in run_sets], ncols=6)\n",
    "\n",
    "fig.set_size_inches(mm2in(122, 3.5))\n",
    "fig.savefig('../local/paper/rl_legend.pdf')\n"
   ]
  },
  {
   "attachments": {},
   "cell_type": "markdown",
   "metadata": {},
   "source": [
    "---\n",
    "\n",
    "IQM Average Episode Length over Time"
   ]
  },
  {
   "cell_type": "code",
   "execution_count": null,
   "metadata": {},
   "outputs": [],
   "source": [
    "if exp == 'rl-feat-only':\n",
    "    variable = 'eval/mean_ep_length'\n",
    "\n",
    "    time_series = wandb_load_time_series(df, variable)\n",
    "    iqm_time_series = compute_iqm_time_series(time_series)\n",
    "    iqm_time_series_smooth = smooth_time_series(iqm_time_series)\n"
   ]
  },
  {
   "cell_type": "code",
   "execution_count": null,
   "metadata": {},
   "outputs": [],
   "source": [
    "if exp == 'rl-feat-only':\n",
    "    fig, ax = iqm_line_plot(iqm_time_series_smooth, labels=labels)\n",
    "    ax.set_ylabel('episode length')\n",
    "    ax.set_xlabel(r'training steps ($\\times 10^6$)')\n",
    "    ax.xaxis.get_offset_text().set_visible(False)\n",
    "    ax.set_ylim(0, None)\n",
    "\n",
    "    fig.set_size_inches(mm2in(122 * 0.49, 25))\n",
    "    fig.savefig('../local/paper/rl_episodelength_fpsonly.pdf')\n"
   ]
  },
  {
   "attachments": {},
   "cell_type": "markdown",
   "metadata": {},
   "source": [
    "---\n",
    "---\n",
    "\n",
    "**Feature Points + End Effector**"
   ]
  },
  {
   "cell_type": "code",
   "execution_count": null,
   "metadata": {},
   "outputs": [],
   "source": [
    "exp = 'rl-feat'\n",
    "df = runs_grouped.filter_by({\n",
    "    'experiment': ['rl-feat', 'rl-full', 'rl-key-5'],\n",
    "    'training.sae_experiment': ['sae-keynet-vel-var-bg', 'sae-basic-vel-var-bg', 'sae-basic-fp32', 'sae-dsae', np.nan]\n",
    "}).sort_index()\n"
   ]
  },
  {
   "attachments": {},
   "cell_type": "markdown",
   "metadata": {},
   "source": [
    "---"
   ]
  },
  {
   "cell_type": "code",
   "execution_count": null,
   "metadata": {},
   "outputs": [],
   "source": [
    "if exp == 'rl-feat':\n",
    "    variable = 'eval/success_rate'\n",
    "\n",
    "    time_series = wandb_load_time_series(df, variable)\n",
    "    iqm_time_series = compute_iqm_time_series(time_series)\n",
    "    iqm_time_series_smooth = smooth_time_series(iqm_time_series)\n"
   ]
  },
  {
   "cell_type": "code",
   "execution_count": null,
   "metadata": {},
   "outputs": [],
   "source": [
    "if exp == 'rl-feat':\n",
    "    fig, ax = iqm_line_plot(iqm_time_series_smooth, labels=labels)\n",
    "    ax.set_ylabel('success rate')\n",
    "    ax.set_xlabel(r'training steps ($\\times 10^6$)')\n",
    "    ax.xaxis.get_offset_text().set_visible(False)\n",
    "\n",
    "    fig.set_size_inches(mm2in(122 * 0.49, 25))\n",
    "    fig.savefig('../local/paper/rl_successrate_fps+ee.pdf')\n"
   ]
  },
  {
   "attachments": {},
   "cell_type": "markdown",
   "metadata": {},
   "source": [
    "---"
   ]
  },
  {
   "cell_type": "code",
   "execution_count": null,
   "metadata": {},
   "outputs": [],
   "source": [
    "if exp == 'rl-feat':\n",
    "    variable = 'eval/mean_ep_length'\n",
    "\n",
    "    time_series = wandb_load_time_series(df, variable)\n",
    "    iqm_time_series = compute_iqm_time_series(time_series)\n",
    "    iqm_time_series_smooth = smooth_time_series(iqm_time_series)\n"
   ]
  },
  {
   "cell_type": "code",
   "execution_count": null,
   "metadata": {},
   "outputs": [],
   "source": [
    "if exp == 'rl-feat':\n",
    "    fig, ax = iqm_line_plot(iqm_time_series_smooth, labels=labels)\n",
    "    ax.set_ylabel('episode length')\n",
    "    ax.set_xlabel(r'training steps ($\\times 10^6$)')\n",
    "    ax.xaxis.get_offset_text().set_visible(False)\n",
    "    ax.set_ylim(0, None)\n",
    "\n",
    "    fig.set_size_inches(mm2in(122 * 0.49, 25))\n",
    "    fig.savefig('../local/paper/rl_episodelength_fps+ee.pdf')\n"
   ]
  },
  {
   "cell_type": "code",
   "execution_count": null,
   "metadata": {},
   "outputs": [],
   "source": []
  }
 ],
 "metadata": {
  "kernelspec": {
   "display_name": "sae-rl-BDjg6v1P",
   "language": "python",
   "name": "python3"
  },
  "language_info": {
   "codemirror_mode": {
    "name": "ipython",
    "version": 3
   },
   "file_extension": ".py",
   "mimetype": "text/x-python",
   "name": "python",
   "nbconvert_exporter": "python",
   "pygments_lexer": "ipython3",
   "version": "3.8.13"
  },
  "orig_nbformat": 4
 },
 "nbformat": 4,
 "nbformat_minor": 2
}
